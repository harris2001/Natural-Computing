{
 "cells": [
  {
   "cell_type": "code",
   "execution_count": 13,
   "metadata": {
    "vscode": {
     "languageId": "python"
    }
   },
   "outputs": [],
   "source": [
    "import numpy as np\n",
    "from random import random, randint, seed\n",
    "from statistics import mean\n",
    "from copy import deepcopy\n",
    "import math\n"
   ]
  },
  {
   "cell_type": "markdown",
   "metadata": {},
   "source": [
    "### 0. Hyperparameters"
   ]
  },
  {
   "cell_type": "code",
   "execution_count": 14,
   "metadata": {
    "vscode": {
     "languageId": "python"
    }
   },
   "outputs": [],
   "source": [
    "POP_SIZE        = 60   # population size\n",
    "MIN_DEPTH       = 2    # minimal initial random tree depth\n",
    "MAX_DEPTH       = 5    # maximal initial random tree depth\n",
    "GENERATIONS     = 250  # maximal number of generations to run evolution\n",
    "TOURNAMENT_SIZE = 5    # size of tournament for tournament selection\n",
    "XO_RATE         = 0.8  # crossover rate \n",
    "PROB_MUTATION   = 0.2  # per-node mutation probability "
   ]
  },
  {
   "cell_type": "markdown",
   "metadata": {},
   "source": [
    "### 1. Terminals & Non-Terminals"
   ]
  },
  {
   "cell_type": "code",
   "execution_count": 15,
   "metadata": {
    "vscode": {
     "languageId": "python"
    }
   },
   "outputs": [],
   "source": [
    "def add(a, b):\n",
    "    return a + b\n",
    "\n",
    "def sub(a, b):\n",
    "    return a - b\n",
    "\n",
    "def mul(a, b):\n",
    "    return a * b\n",
    "\n",
    "def div(a, b):\n",
    "    if b != 0:\n",
    "        return a / b\n",
    "    return 1 #to avoid division by 1\n",
    "\n",
    "def fact(n,_):\n",
    "    return math.factorial(abs(n))"
   ]
  },
  {
   "cell_type": "code",
   "execution_count": 16,
   "metadata": {
    "vscode": {
     "languageId": "python"
    }
   },
   "outputs": [],
   "source": [
    "FUNCTIONS = [add, sub, mul, div, fact]\n",
    "TERMINALS = ['x', -2, -1, 0, 1, 2]"
   ]
  },
  {
   "cell_type": "markdown",
   "metadata": {},
   "source": [
    "### 2. Creating target function and sequence"
   ]
  },
  {
   "cell_type": "code",
   "execution_count": 17,
   "metadata": {
    "vscode": {
     "languageId": "python"
    }
   },
   "outputs": [],
   "source": [
    "def target_func(n):\n",
    "    return math.factorial(2 * n) // (math.factorial(n + 1) * math.factorial(n))\n",
    "\n",
    "def generate_dataset(length):\n",
    "    ans = []\n",
    "    for i in range(1,length):\n",
    "        ans.append((i,target_func(i)))\n",
    "    return ans"
   ]
  },
  {
   "cell_type": "code",
   "execution_count": 18,
   "metadata": {
    "vscode": {
     "languageId": "python"
    }
   },
   "outputs": [
    {
     "data": {
      "image/png": "[encoded data removed]",
      "text/plain": [
       "<Figure size 640x480 with 1 Axes>"
      ]
     },
     "metadata": {},
     "output_type": "display_data"
    }
   ],
   "source": [
    "import matplotlib.pyplot as plt\n",
    "\n",
    "# create sequence of x values\n",
    "x_seq = np.arange(1, 11)\n",
    "\n",
    "# apply target function to each x value to get corresponding y value\n",
    "y_seq = [target_func(x) for x in range(len(x_seq))]\n",
    "\n",
    "# plot x-y pairs\n",
    "plt.plot(x_seq, y_seq)\n",
    "plt.xlabel('x')\n",
    "plt.ylabel('y')\n",
    "plt.title('Target Function')\n",
    "plt.show()\n"
   ]
  },
  {
   "cell_type": "markdown",
   "metadata": {},
   "source": [
    "### 3. Genetic Programming Tree"
   ]
  },
  {
   "cell_type": "code",
   "execution_count": 25,
   "metadata": {
    "vscode": {
     "languageId": "python"
    }
   },
   "outputs": [],
   "source": [
    "class GPTree:\n",
    "    def __init__(self, data = None, left = None, right = None):\n",
    "        self.data  = data\n",
    "        self.left  = left\n",
    "        self.right = right\n",
    "        \n",
    "    def node_label(self): # string label\n",
    "        if (self.data in FUNCTIONS):\n",
    "            return self.data.__name__\n",
    "        else: \n",
    "            return str(self.data)\n",
    "    \n",
    "    def print_tree(self, prefix = \"\"): # textual printout\n",
    "        print(\"%s%s\" % (prefix, self.node_label()))        \n",
    "        if self.left:  self.left.print_tree (prefix + \"   \")\n",
    "        if self.right: self.right.print_tree(prefix + \"   \")\n",
    "\n",
    "    def compute_tree(self, x): \n",
    "        if (self.data in FUNCTIONS): \n",
    "            return self.data(self.left.compute_tree(x), self.right.compute_tree(x))\n",
    "        elif self.data == 'x': return x\n",
    "        else: return self.data\n",
    "            \n",
    "    def random_tree(self, grow, max_depth, depth = 0): # create random tree using either grow or full method\n",
    "        if depth < MIN_DEPTH or (depth < max_depth and not grow): \n",
    "            self.data = FUNCTIONS[randint(0, len(FUNCTIONS)-1)]\n",
    "        elif depth >= max_depth:   \n",
    "            self.data = TERMINALS[randint(0, len(TERMINALS)-1)]\n",
    "        else: # intermediate depth, grow\n",
    "            if random () > 0.5: \n",
    "                self.data = TERMINALS[randint(0, len(TERMINALS)-1)]\n",
    "            else:\n",
    "                self.data = FUNCTIONS[randint(0, len(FUNCTIONS)-1)]\n",
    "        if self.data in FUNCTIONS:\n",
    "            self.left = GPTree()          \n",
    "            self.left.random_tree(grow, max_depth, depth = depth + 1)            \n",
    "            self.right = GPTree()\n",
    "            self.right.random_tree(grow, max_depth, depth = depth + 1)\n",
    "\n",
    "    def mutation(self):\n",
    "        if random() < PROB_MUTATION: # mutate at this node\n",
    "            self.random_tree(grow = True, max_depth = 2)\n",
    "        elif self.left: self.left.mutation()\n",
    "        elif self.right: self.right.mutation() \n",
    "\n",
    "    def size(self): # tree size in nodes\n",
    "        if self.data in TERMINALS: return 1\n",
    "        l = self.left.size()  if self.left  else 0\n",
    "        r = self.right.size() if self.right else 0\n",
    "        return 1 + l + r\n",
    "\n",
    "    def build_subtree(self):\n",
    "        t = GPTree()\n",
    "        t.data = self.data\n",
    "        if self.left:  t.left  = self.left.build_subtree()\n",
    "        if self.right: t.right = self.right.build_subtree()\n",
    "        return t\n",
    "                        \n",
    "    def scan_tree(self, count, second):\n",
    "        count[0] -= 1            \n",
    "        if count[0] <= 1: \n",
    "            if not second: # return subtree rooted here\n",
    "                return self.build_subtree()\n",
    "            else: # glue subtree here\n",
    "                self.data  = second.data\n",
    "                self.left  = second.left\n",
    "                self.right = second.right\n",
    "        else:  \n",
    "            ret = None              \n",
    "            if self.left  and count[0] > 1: ret = self.left.scan_tree(count, second)  \n",
    "            if self.right and count[0] > 1: ret = self.right.scan_tree(count, second)  \n",
    "            return ret\n",
    "\n",
    "    def crossover(self, other): # xo 2 trees at random nodes\n",
    "        if random() < XO_RATE:\n",
    "            second = other.scan_tree([randint(1, other.size())], None) # 2nd random subtree\n",
    "            self.scan_tree([randint(1, self.size())], second) # 2nd subtree \"glued\" inside 1st tree"
   ]
  },
  {
   "cell_type": "markdown",
   "metadata": {},
   "source": [
    "### 4. Fitness and selection"
   ]
  },
  {
   "cell_type": "code",
   "execution_count": 26,
   "metadata": {
    "vscode": {
     "languageId": "python"
    }
   },
   "outputs": [],
   "source": [
    "def fitness(individual, dataset):\n",
    "    return (1 + mean([abs(individual.compute_tree(ds[0]) - ds[1]) for ds in dataset]))"
   ]
  },
  {
   "cell_type": "code",
   "execution_count": 27,
   "metadata": {
    "vscode": {
     "languageId": "python"
    }
   },
   "outputs": [],
   "source": [
    "def selection(population, fitnesses): # select one individual using tournament selection\n",
    "    tournament = [randint(0, len(population)-1) for i in range(TOURNAMENT_SIZE)] # select tournament contenders\n",
    "    tournament_fitnesses = [fitnesses[tournament[i]] for i in range(TOURNAMENT_SIZE)]\n",
    "    return deepcopy(population[tournament[tournament_fitnesses.index(max(tournament_fitnesses))]]) "
   ]
  },
  {
   "cell_type": "code",
   "execution_count": 28,
   "metadata": {
    "vscode": {
     "languageId": "python"
    }
   },
   "outputs": [],
   "source": [
    "def roulette_selection(population, fitnesses):\n",
    "    # calculate total fitness of population\n",
    "    total_fitness = sum(fitnesses)\n",
    "    \n",
    "    # calculate probability of selection for each individual\n",
    "    probabilities = [fitness / total_fitness for fitness in fitnesses]\n",
    "    \n",
    "    # create a cumulative probability distribution\n",
    "    cumulative_probabilities = [sum(probabilities[:i+1]) for i in range(len(probabilities))]\n",
    "    \n",
    "    # select individuals using roulette wheel selection\n",
    "    selected = []\n",
    "    for i in range(len(population)):\n",
    "        r = random()\n",
    "        for j in range(len(cumulative_probabilities)):\n",
    "            if r <= cumulative_probabilities[j]:\n",
    "                selected.append(deepcopy(population[j]))\n",
    "                break\n",
    "                \n",
    "    return selected"
   ]
  },
  {
   "cell_type": "code",
   "execution_count": 29,
   "metadata": {
    "vscode": {
     "languageId": "python"
    }
   },
   "outputs": [],
   "source": [
    "def init_population(): # ramped half-and-half\n",
    "    pop = []\n",
    "    for md in range(3, MAX_DEPTH + 1):\n",
    "        for i in range(int(POP_SIZE/6)):\n",
    "            t = GPTree()\n",
    "            t.random_tree(grow = True, max_depth = md) # grow\n",
    "            pop.append(t) \n",
    "        for i in range(int(POP_SIZE/6)):\n",
    "            t = GPTree()\n",
    "            t.random_tree(grow = False, max_depth = md) # full\n",
    "            pop.append(t) \n",
    "    return pop"
   ]
  },
  {
   "cell_type": "markdown",
   "metadata": {},
   "source": [
    "### 5.Main Loop"
   ]
  },
  {
   "cell_type": "code",
   "execution_count": null,
   "metadata": {
    "vscode": {
     "languageId": "python"
    }
   },
   "outputs": [],
   "source": [
    "dataset = generate_dataset(200)\n",
    "population = init_population() \n",
    "best_of_run = None\n",
    "best_of_run_f = 0\n",
    "best_of_run_gen = 0\n",
    "fitnesses = [fitness(population[i], dataset) for i in range(POP_SIZE)]\n",
    "\n",
    "# go evolution!\n",
    "for gen in range(GENERATIONS):    \n",
    "    print(f\"Generation: {gen}\")    \n",
    "    nextgen_population=[]\n",
    "    for i in range(POP_SIZE):\n",
    "        parent1 = selection(population, fitnesses)\n",
    "        parent2 = selection(population, fitnesses)\n",
    "        parent1.crossover(parent2)\n",
    "        parent1.mutation()\n",
    "        nextgen_population.append(parent1)\n",
    "    population=nextgen_population\n",
    "    fitnesses = [fitness(population[i], dataset) for i in range(POP_SIZE)]\n",
    "    if max(fitnesses) > best_of_run_f:\n",
    "        best_of_run_f = max(fitnesses)\n",
    "        best_of_run_gen = gen\n",
    "        best_of_run = deepcopy(population[fitnesses.index(max(fitnesses))])\n",
    "        print(\"________________________\")\n",
    "        print(\"gen:\", gen, \", best_of_run_f:\", round(max(fitnesses),3), \", best_of_run:\") \n",
    "        best_of_run.print_tree()\n",
    "    if best_of_run_f == 1: break   \n",
    "\n",
    "print(\"\\n\\n_________________________________________________\\nEND OF RUN\\nbest_of_run attained at gen \" + str(best_of_run_gen) +\\\n",
    "        \" and has f=\" + str(round(best_of_run_f,3)))\n",
    "best_of_run.print_tree()"
   ]
  },
  {
   "cell_type": "code",
   "execution_count": null,
   "metadata": {
    "vscode": {
     "languageId": "python"
    }
   },
   "outputs": [],
   "source": []
  }
 ],
 "metadata": {
  "kernelspec": {
   "display_name": "SageMath 9.5",
   "language": "sage",
   "name": "sagemath"
  },
  "language_info": {
   "codemirror_mode": {
    "name": "ipython",
    "version": 3
   },
   "file_extension": ".py",
   "mimetype": "text/x-python",
   "name": "sage",
   "nbconvert_exporter": "python",
   "pygments_lexer": "ipython3",
   "version": "3.11.4"
  }
 },
 "nbformat": 4,
 "nbformat_minor": 2
}
