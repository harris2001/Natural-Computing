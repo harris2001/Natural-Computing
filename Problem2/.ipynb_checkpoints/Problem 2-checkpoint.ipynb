{
 "cells": [
  {
   "cell_type": "code",
   "execution_count": 2,
   "id": "aaac49a8",
   "metadata": {},
   "outputs": [],
   "source": [
    "import numpy as np\n",
    "import matplotlib.pyplot as plt"
   ]
  },
  {
   "cell_type": "markdown",
   "id": "236c906c",
   "metadata": {},
   "source": [
    "## 0. Game generation"
   ]
  },
  {
   "cell_type": "code",
   "execution_count": 3,
   "id": "9b5fbe71",
   "metadata": {},
   "outputs": [],
   "source": [
    "np.random.seed(99999)"
   ]
  },
  {
   "cell_type": "code",
   "execution_count": 4,
   "id": "ba28d106",
   "metadata": {},
   "outputs": [],
   "source": [
    "def new_game(k=3,min_value=3,max_value=15):\n",
    "    game_board = np.zeros((k,k))\n",
    "    constraints = np.zeros((2,k))\n",
    "    solution = \"\" #This is hidden in the code (only used for debugging)\n",
    "    for i in range(k):\n",
    "        for j in range(k):\n",
    "            game_board[i][j] = np.random.randint(min_value,max_value+1)\n",
    "            #Randomly delete 1/3 of the cells from sum\n",
    "            if np.random.randint(0,3) > 0:\n",
    "                constraints[0][i]+=game_board[i][j] #horizontal sum\n",
    "                constraints[1][j]+=game_board[i][j] #vertical sum  \n",
    "                solution += \"1\"\n",
    "                continue\n",
    "            solution += \"0\"\n",
    "            \n",
    "    return game_board, constraints, solution\n",
    "        "
   ]
  },
  {
   "cell_type": "code",
   "execution_count": 5,
   "id": "e0ebdc73",
   "metadata": {},
   "outputs": [],
   "source": [
    "# K=15"
   ]
  },
  {
   "cell_type": "code",
   "execution_count": 6,
   "id": "ff684f9a",
   "metadata": {},
   "outputs": [],
   "source": [
    "# game_board,constraints,solution = new_game(k=K)\n",
    "# game_board,constraints,solution"
   ]
  },
  {
   "cell_type": "markdown",
   "id": "7fefe306",
   "metadata": {},
   "source": [
    "## 1. Population Initialisation"
   ]
  },
  {
   "cell_type": "code",
   "execution_count": 7,
   "id": "0d3d12f9",
   "metadata": {},
   "outputs": [],
   "source": [
    "def intialise_population(pop_size,k):\n",
    "    generation_0 = []\n",
    "    for pp in range(pop_size):\n",
    "        population = \"\"\n",
    "        for i in range(k):\n",
    "            for j in range(k):\n",
    "                population+=str(np.random.randint(0,2))\n",
    "        generation_0.append(population)\n",
    "    return np.array(generation_0)"
   ]
  },
  {
   "cell_type": "code",
   "execution_count": 8,
   "id": "e706f23a",
   "metadata": {},
   "outputs": [],
   "source": [
    "# initial_population = intialise_population(50,k=K)\n",
    "# initial_population"
   ]
  },
  {
   "cell_type": "markdown",
   "id": "383783ca",
   "metadata": {},
   "source": [
    "## 2. Fitness"
   ]
  },
  {
   "cell_type": "code",
   "execution_count": 13,
   "id": "2c042590",
   "metadata": {},
   "outputs": [],
   "source": [
    "NAIVE = False"
   ]
  },
  {
   "cell_type": "code",
   "execution_count": 14,
   "id": "a78297e1",
   "metadata": {},
   "outputs": [],
   "source": [
    "def get_fitness(candidate, game_board, constraints):\n",
    "    k = int(np.sqrt(len(candidate)))\n",
    "    candidate_array = np.array(list(candidate), dtype=int).reshape((k, k))\n",
    "\n",
    "    row_sums = np.sum(game_board * candidate_array, axis=1)\n",
    "    col_sums = np.sum(game_board * candidate_array, axis=0)\n",
    "\n",
    "    if not NAIVE:\n",
    "        total = np.sum(row_sums == constraints[0]) + np.sum(col_sums == constraints[1])\n",
    "        return total\n",
    "\n",
    "    # The naive approach is to return 0 or 1 to indicate if the population is a candidate or not\n",
    "    return 1 if (row_sums == constraints[0]).all() and (col_sums == constraints[1]).all() else 0\n"
   ]
  },
  {
   "cell_type": "code",
   "execution_count": 15,
   "id": "39f1db4c",
   "metadata": {},
   "outputs": [],
   "source": [
    "# for i in initial_population:\n",
    "#     print(solution,i,get_fitness(i,game_board, constraints))"
   ]
  },
  {
   "cell_type": "markdown",
   "id": "7b3f5b4e",
   "metadata": {},
   "source": [
    "## 3. Ranking & Selection"
   ]
  },
  {
   "cell_type": "code",
   "execution_count": 16,
   "id": "73a773cb",
   "metadata": {},
   "outputs": [],
   "source": [
    "def rank(population):\n",
    "    ranking = []\n",
    "    for i in range(len(population)):\n",
    "        ranking.append((np.sum(get_fitness(population[i],game_board,constraints)),i))\n",
    "    return np.array(sorted(ranking,reverse=True))"
   ]
  },
  {
   "cell_type": "code",
   "execution_count": 17,
   "id": "16fe7c5e",
   "metadata": {},
   "outputs": [],
   "source": [
    "# ranking = rank(initial_population)\n",
    "# for r in ranking:\n",
    "#     print(initial_population[r[1]],r[0])"
   ]
  },
  {
   "cell_type": "code",
   "execution_count": 18,
   "id": "eed0b809",
   "metadata": {},
   "outputs": [],
   "source": [
    "def selection(ranked, elitism):\n",
    "    n = len(ranked)\n",
    "    probabilities = np.zeros(n)\n",
    "    members = np.arange(n)\n",
    "    elite_members = []\n",
    "    \n",
    "    for i in range(n):\n",
    "        if i < elitism:\n",
    "            elite_members.append(ranked[i][1])\n",
    "        probabilities[ranked[i][1]] = ranked[i][0]\n",
    "    \n",
    "    if not NAIVE:\n",
    "        # Check if the sum of probabilities is not zero before normalization\n",
    "        sum_probabilities = np.sum(probabilities)\n",
    "        if sum_probabilities != 0:\n",
    "            probabilities = probabilities / sum_probabilities\n",
    "        else:\n",
    "            # If sum of probabilities is zero, assign equal probabilities to all members\n",
    "            probabilities = np.ones_like(probabilities) / n\n",
    "    else:\n",
    "        #assign equal probability to all members of the population (because sum_of_fitness=0)\n",
    "        probabilities = np.ones_like(probabilities) / n\n",
    "    \n",
    "    # Select whether to add an individual from the remaining n-elitism members using their weighted probabilities\n",
    "    selected_members = np.random.choice(members, n - elitism, p=probabilities)\n",
    "    \n",
    "    return selected_members, np.array(elite_members)        "
   ]
  },
  {
   "cell_type": "code",
   "execution_count": 19,
   "id": "e0ed2001",
   "metadata": {},
   "outputs": [],
   "source": [
    "# selected,elite = selection(ranking,10)\n",
    "# selected,elite"
   ]
  },
  {
   "cell_type": "code",
   "execution_count": 20,
   "id": "3b0293be",
   "metadata": {},
   "outputs": [],
   "source": [
    "def mating_pool(population, selected_members, elite_members):\n",
    "    pool = np.array([population[x] for x in selected_members])\n",
    "    elite = np.array([population[x] for x in elite_members])\n",
    "    return pool, elite"
   ]
  },
  {
   "cell_type": "code",
   "execution_count": 21,
   "id": "c188ab7d",
   "metadata": {
    "scrolled": true
   },
   "outputs": [],
   "source": [
    "# pool, elite_pool = mating_pool(initial_population,selected,elite)\n",
    "# pool, elite_pool "
   ]
  },
  {
   "cell_type": "markdown",
   "id": "5bdeb90d",
   "metadata": {},
   "source": [
    "## 4. Breeding"
   ]
  },
  {
   "cell_type": "code",
   "execution_count": 22,
   "id": "45a78ddf",
   "metadata": {},
   "outputs": [],
   "source": [
    "def breeding(k,parent1,parent2):\n",
    "    \n",
    "    geneA = np.random.randint(0,k-1)\n",
    "    geneB = np.random.randint(1,k)\n",
    "    \n",
    "    while geneA >= geneB:\n",
    "        geneA = np.random.randint(0,k-1)\n",
    "        geneB = np.random.randint(1,k)\n",
    "    child = \"\"\n",
    "    for i in range(k):\n",
    "        for j in range(k):\n",
    "            if i>=geneA and i<=geneB:\n",
    "                child += parent1[i*k+j]\n",
    "            else:\n",
    "                child += parent2[i*k+j]\n",
    "    #print(f\"P1:{parent1} & P2:{parent2} => {child}\")\n",
    "    return child"
   ]
  },
  {
   "cell_type": "code",
   "execution_count": 23,
   "id": "ef0773d6",
   "metadata": {},
   "outputs": [],
   "source": [
    "def new_population(k,mating_pool,elite_pool):\n",
    "    children = [elite for elite in elite_pool]\n",
    "    n = len(mating_pool)\n",
    "    # Sample from the mating pool with replacement to create a pool of mating parents\n",
    "    pool_indices = np.random.choice(np.arange(n), n)\n",
    "    pool = [mating_pool[i] for i in pool_indices]\n",
    "    \n",
    "    for i in range(n):\n",
    "        child = breeding(k,pool[i],pool[n-i-1])\n",
    "        children.append(child)\n",
    "    return np.array(children)"
   ]
  },
  {
   "cell_type": "code",
   "execution_count": 24,
   "id": "7e2248f5",
   "metadata": {},
   "outputs": [],
   "source": [
    "# new_population(K,pool,elite_pool)"
   ]
  },
  {
   "cell_type": "markdown",
   "id": "dc9a7e7e",
   "metadata": {},
   "source": [
    "## 5. Mutate"
   ]
  },
  {
   "cell_type": "code",
   "execution_count": 68,
   "id": "753ea8e9",
   "metadata": {},
   "outputs": [],
   "source": [
    "def mutate(chromosome):\n",
    "    k = int(np.sqrt(len(chromosome))) #kxk grid\n",
    "    to_modify = int(np.sqrt(k)) \n",
    "    #we are modifying sqrt(k) rows\n",
    "    for _ in range(to_modify):\n",
    "        #Choose which row we are modifying at random\n",
    "        i = np.random.randint(0,k-1)\n",
    "        #Resample the values for that random row at random\n",
    "        i *= k #Staring position of i^th row in the chromosome\n",
    "        for column in range(k):\n",
    "            print(i)\n",
    "            if chromosome[i] == '1':\n",
    "                chromosome = chromosome[:i] + '0' + chromosome[i + 1:]\n",
    "            else:\n",
    "                chromosome = chromosome[:i] + '1' + chromosome[i + 1:]\n",
    "            i += 1\n",
    "    return chromosome\n",
    "def mutate_population(population, prob_mut):\n",
    "    mutated_population = []\n",
    "    for individual in population:\n",
    "        if np.random.rand() <= prob_mut:\n",
    "            mutated_population.append(mutate(individual))\n",
    "        else:\n",
    "            mutated_population.append(individual)\n",
    "    return mutated_population"
   ]
  },
  {
   "cell_type": "markdown",
   "id": "a892a751",
   "metadata": {},
   "source": [
    "## 6. New Generation"
   ]
  },
  {
   "cell_type": "code",
   "execution_count": 69,
   "id": "4cd9cdf1",
   "metadata": {},
   "outputs": [],
   "source": [
    "def new_generation(k,current_gen, elitism, prob_mut):\n",
    "    ranking = rank(current_gen)\n",
    "    selected,elite = selection(ranking,elitism)\n",
    "    pool, elite_pool = mating_pool(current_gen,selected,elite)\n",
    "    children = new_population(k,pool,elite_pool)\n",
    "    next_gen = mutate_population(children, prob_mut)\n",
    "    return next_gen"
   ]
  },
  {
   "cell_type": "markdown",
   "id": "7b475140",
   "metadata": {},
   "source": [
    "## 7. Genetic Algorithm"
   ]
  },
  {
   "cell_type": "code",
   "execution_count": 70,
   "id": "360b5d29",
   "metadata": {},
   "outputs": [],
   "source": [
    "def genetic_algorithm(pop_size, elitism, prob_mut, generations, k, verbose=False, NoG=300):\n",
    "    pop = intialise_population(pop_size,k)\n",
    "    ranked = rank(pop)\n",
    "    x_0 = ranked[0][0]\n",
    "    x_1 = -1\n",
    "    ys = [x_0]\n",
    "        \n",
    "    stucked=0\n",
    "    for i in range(generations):\n",
    "        pop = new_generation(k,pop, elitism, prob_mut)\n",
    "        ranked = rank(pop)\n",
    "        if ranked[0][0] <= x_1:\n",
    "            stucked += 1\n",
    "        else:\n",
    "            stucked = 0\n",
    "        x_1 = max(x_1,ranked[0][0])\n",
    "        ys.append(x_1)\n",
    "        if not NAIVE:\n",
    "            if ranked[0][0]==2*k or stucked>=NoG:\n",
    "                break\n",
    "        if NAIVE:\n",
    "            if ranked[0][0]==1 or stucked>=NoG:\n",
    "                break\n",
    "    #Plotting performance graph\n",
    "    plt.plot([x for x in range(i+2)],ys)\n",
    "    plt.xlabel('Iteration')\n",
    "    plt.ylabel('Fitness Score')\n",
    "    plt.show()\n",
    "    \n",
    "    #for r in ranked:\n",
    "    #    print(solution,pop[r[1]],r[0])\n",
    "\n",
    "    return x_0,x_1,i"
   ]
  },
  {
   "cell_type": "code",
   "execution_count": 72,
   "id": "b67b94af",
   "metadata": {},
   "outputs": [
    {
     "name": "stdout",
     "output_type": "stream",
     "text": [
      "20\n"
     ]
    },
    {
     "ename": "IndexError",
     "evalue": "string index out of range",
     "output_type": "error",
     "traceback": [
      "\u001b[0;31m---------------------------------------------------------------------------\u001b[0m",
      "\u001b[0;31mIndexError\u001b[0m                                Traceback (most recent call last)",
      "Cell \u001b[0;32mIn [72], line 3\u001b[0m\n\u001b[1;32m      1\u001b[0m K\u001b[38;5;241m=\u001b[39m\u001b[38;5;241m4\u001b[39m\n\u001b[1;32m      2\u001b[0m game_board,constraints,solution \u001b[38;5;241m=\u001b[39m new_game(k\u001b[38;5;241m=\u001b[39mK)\n\u001b[0;32m----> 3\u001b[0m x0,x1,i \u001b[38;5;241m=\u001b[39m \u001b[43mgenetic_algorithm\u001b[49m\u001b[43m(\u001b[49m\u001b[38;5;241;43m1000\u001b[39;49m\u001b[43m,\u001b[49m\u001b[38;5;241;43m50\u001b[39;49m\u001b[43m,\u001b[49m\u001b[38;5;241;43m0.08\u001b[39;49m\u001b[43m,\u001b[49m\u001b[38;5;241;43m1000\u001b[39;49m\u001b[43m,\u001b[49m\u001b[43mK\u001b[49m\u001b[43m,\u001b[49m\u001b[43mverbose\u001b[49m\u001b[38;5;241;43m=\u001b[39;49m\u001b[38;5;28;43;01mTrue\u001b[39;49;00m\u001b[43m)\u001b[49m\n\u001b[1;32m      4\u001b[0m \u001b[38;5;28mprint\u001b[39m(\u001b[38;5;124mf\u001b[39m\u001b[38;5;124m\"\u001b[39m\u001b[38;5;124mInitial fit: \u001b[39m\u001b[38;5;132;01m{\u001b[39;00mx0\u001b[38;5;132;01m}\u001b[39;00m\u001b[38;5;124m, Final Fit: \u001b[39m\u001b[38;5;132;01m{\u001b[39;00mx1\u001b[38;5;132;01m}\u001b[39;00m\u001b[38;5;124m, Found in generation: \u001b[39m\u001b[38;5;132;01m{\u001b[39;00mi\u001b[38;5;132;01m}\u001b[39;00m\u001b[38;5;124m\"\u001b[39m)\n",
      "Cell \u001b[0;32mIn [70], line 10\u001b[0m, in \u001b[0;36mgenetic_algorithm\u001b[0;34m(pop_size, elitism, prob_mut, generations, k, verbose, NoG)\u001b[0m\n\u001b[1;32m      8\u001b[0m stucked\u001b[38;5;241m=\u001b[39m\u001b[38;5;241m0\u001b[39m\n\u001b[1;32m      9\u001b[0m \u001b[38;5;28;01mfor\u001b[39;00m i \u001b[38;5;129;01min\u001b[39;00m \u001b[38;5;28mrange\u001b[39m(generations):\n\u001b[0;32m---> 10\u001b[0m     pop \u001b[38;5;241m=\u001b[39m \u001b[43mnew_generation\u001b[49m\u001b[43m(\u001b[49m\u001b[43mk\u001b[49m\u001b[43m,\u001b[49m\u001b[43mpop\u001b[49m\u001b[43m,\u001b[49m\u001b[43m \u001b[49m\u001b[43melitism\u001b[49m\u001b[43m,\u001b[49m\u001b[43m \u001b[49m\u001b[43mprob_mut\u001b[49m\u001b[43m)\u001b[49m\n\u001b[1;32m     11\u001b[0m     ranked \u001b[38;5;241m=\u001b[39m rank(pop)\n\u001b[1;32m     12\u001b[0m     \u001b[38;5;28;01mif\u001b[39;00m ranked[\u001b[38;5;241m0\u001b[39m][\u001b[38;5;241m0\u001b[39m] \u001b[38;5;241m<\u001b[39m\u001b[38;5;241m=\u001b[39m x_1:\n",
      "Cell \u001b[0;32mIn [69], line 6\u001b[0m, in \u001b[0;36mnew_generation\u001b[0;34m(k, current_gen, elitism, prob_mut)\u001b[0m\n\u001b[1;32m      4\u001b[0m pool, elite_pool \u001b[38;5;241m=\u001b[39m mating_pool(current_gen,selected,elite)\n\u001b[1;32m      5\u001b[0m children \u001b[38;5;241m=\u001b[39m new_population(k,pool,elite_pool)\n\u001b[0;32m----> 6\u001b[0m next_gen \u001b[38;5;241m=\u001b[39m \u001b[43mmutate_population\u001b[49m\u001b[43m(\u001b[49m\u001b[43mchildren\u001b[49m\u001b[43m,\u001b[49m\u001b[43m \u001b[49m\u001b[43mprob_mut\u001b[49m\u001b[43m)\u001b[49m\n\u001b[1;32m      7\u001b[0m \u001b[38;5;28;01mreturn\u001b[39;00m next_gen\n",
      "Cell \u001b[0;32mIn [68], line 22\u001b[0m, in \u001b[0;36mmutate_population\u001b[0;34m(population, prob_mut)\u001b[0m\n\u001b[1;32m     20\u001b[0m \u001b[38;5;28;01mfor\u001b[39;00m individual \u001b[38;5;129;01min\u001b[39;00m population:\n\u001b[1;32m     21\u001b[0m     \u001b[38;5;28;01mif\u001b[39;00m np\u001b[38;5;241m.\u001b[39mrandom\u001b[38;5;241m.\u001b[39mrand() \u001b[38;5;241m<\u001b[39m\u001b[38;5;241m=\u001b[39m prob_mut:\n\u001b[0;32m---> 22\u001b[0m         mutated_population\u001b[38;5;241m.\u001b[39mappend(\u001b[43mmutate\u001b[49m\u001b[43m(\u001b[49m\u001b[43mindividual\u001b[49m\u001b[43m)\u001b[49m)\n\u001b[1;32m     23\u001b[0m     \u001b[38;5;28;01melse\u001b[39;00m:\n\u001b[1;32m     24\u001b[0m         mutated_population\u001b[38;5;241m.\u001b[39mappend(individual)\n",
      "Cell \u001b[0;32mIn [68], line 12\u001b[0m, in \u001b[0;36mmutate\u001b[0;34m(chromosome)\u001b[0m\n\u001b[1;32m     10\u001b[0m \u001b[38;5;28;01mfor\u001b[39;00m column \u001b[38;5;129;01min\u001b[39;00m \u001b[38;5;28mrange\u001b[39m(k):\n\u001b[1;32m     11\u001b[0m     \u001b[38;5;28mprint\u001b[39m(i)\n\u001b[0;32m---> 12\u001b[0m     \u001b[38;5;28;01mif\u001b[39;00m \u001b[43mchromosome\u001b[49m\u001b[43m[\u001b[49m\u001b[43mi\u001b[49m\u001b[43m]\u001b[49m \u001b[38;5;241m==\u001b[39m \u001b[38;5;124m'\u001b[39m\u001b[38;5;124m1\u001b[39m\u001b[38;5;124m'\u001b[39m:\n\u001b[1;32m     13\u001b[0m         chromosome \u001b[38;5;241m=\u001b[39m chromosome[:i] \u001b[38;5;241m+\u001b[39m \u001b[38;5;124m'\u001b[39m\u001b[38;5;124m0\u001b[39m\u001b[38;5;124m'\u001b[39m \u001b[38;5;241m+\u001b[39m chromosome[i \u001b[38;5;241m+\u001b[39m \u001b[38;5;241m1\u001b[39m:]\n\u001b[1;32m     14\u001b[0m     \u001b[38;5;28;01melse\u001b[39;00m:\n",
      "\u001b[0;31mIndexError\u001b[0m: string index out of range"
     ]
    }
   ],
   "source": [
    "K=4\n",
    "game_board,constraints,solution = new_game(k=K)\n",
    "x0,x1,i = genetic_algorithm(1000,50,0.08,1000,K,verbose=True)\n",
    "print(f\"Initial fit: {x0}, Final Fit: {x1}, Found in generation: {i}\")"
   ]
  },
  {
   "cell_type": "code",
   "execution_count": 52,
   "id": "b3de0c73",
   "metadata": {
    "scrolled": false
   },
   "outputs": [
    {
     "data": {
      "image/png": "[encoded data removed]",
      "text/plain": [
       "<Figure size 640x480 with 1 Axes>"
      ]
     },
     "metadata": {},
     "output_type": "display_data"
    },
    {
     "ename": "NameError",
     "evalue": "name 'k' is not defined",
     "output_type": "error",
     "traceback": [
      "\u001b[0;31m---------------------------------------------------------------------------\u001b[0m",
      "\u001b[0;31mNameError\u001b[0m                                 Traceback (most recent call last)",
      "Cell \u001b[0;32mIn [52], line 5\u001b[0m\n\u001b[1;32m      3\u001b[0m game_board,constraints,_ \u001b[38;5;241m=\u001b[39m new_game(k\u001b[38;5;241m=\u001b[39mK)\n\u001b[1;32m      4\u001b[0m x_0,x_1,it \u001b[38;5;241m=\u001b[39m genetic_algorithm(\u001b[38;5;241m1000\u001b[39m,\u001b[38;5;241m50\u001b[39m,\u001b[38;5;241m0.8\u001b[39m,\u001b[38;5;241m1000\u001b[39m,K,verbose\u001b[38;5;241m=\u001b[39m\u001b[38;5;28;01mTrue\u001b[39;00m)\n\u001b[0;32m----> 5\u001b[0m \u001b[38;5;28mprint\u001b[39m(\u001b[38;5;124mf\u001b[39m\u001b[38;5;124m\"\u001b[39m\u001b[38;5;132;01m{\u001b[39;00mx_0\u001b[38;5;132;01m}\u001b[39;00m\u001b[38;5;124m => \u001b[39m\u001b[38;5;132;01m{\u001b[39;00mx_1\u001b[38;5;132;01m}\u001b[39;00m\u001b[38;5;124m/\u001b[39m\u001b[38;5;132;01m{\u001b[39;00m\u001b[43mk\u001b[49m\u001b[38;5;241m*\u001b[39m\u001b[38;5;241m2\u001b[39m\u001b[38;5;132;01m}\u001b[39;00m\u001b[38;5;124m in \u001b[39m\u001b[38;5;132;01m{\u001b[39;00mit\u001b[38;5;132;01m}\u001b[39;00m\u001b[38;5;124m gerations\u001b[39m\u001b[38;5;124m\"\u001b[39m)\n",
      "\u001b[0;31mNameError\u001b[0m: name 'k' is not defined"
     ]
    }
   ],
   "source": [
    "K = 15\n",
    "\n",
    "game_board,constraints,_ = new_game(k=K)\n",
    "x_0,x_1,it = genetic_algorithm(1000,50,0.8,1000,K,verbose=True)\n",
    "print(f\"{x_0} => {x_1}/{k*2} in {it} gerations\")"
   ]
  },
  {
   "cell_type": "code",
   "execution_count": 101,
   "id": "f623083f",
   "metadata": {},
   "outputs": [],
   "source": [
    "ys_initial = []\n",
    "ys_final = []\n",
    "iterations = []\n",
    "for i in y:\n",
    "    ys_initial.append(i[0])\n",
    "    ys_final.append(i[1])\n",
    "\n",
    "for i in its:\n",
    "    iterations.append(i*10)"
   ]
  },
  {
   "cell_type": "code",
   "execution_count": 102,
   "id": "774c4ae4",
   "metadata": {},
   "outputs": [
    {
     "name": "stdout",
     "output_type": "stream",
     "text": [
      "[50.0, 0.0, 0.0, 0.0, 0.0, 0.0, 0.0, 0.0, 0.0, 0.0, 0.0, 0.0]\n",
      "[100.0, 100.0, 0.0, 0.0, 0.0, 0.0, 0.0, 0.0, 0.0, 0.0, 0.0, 0.0]\n",
      "[0.0, 195.0, 600.0, 600.0, 600.0, 600.0, 600.0, 600.0, 600.0, 600.0, 600.0, 600.0]\n"
     ]
    }
   ],
   "source": [
    "print(ys_initial)\n",
    "print(ys_final)\n",
    "print(iterations)"
   ]
  },
  {
   "cell_type": "code",
   "execution_count": 103,
   "id": "07bafd7b",
   "metadata": {},
   "outputs": [
    {
     "data": {
      "image/png": "[encoded data removed]",
      "text/plain": [
       "<Figure size 640x480 with 1 Axes>"
      ]
     },
     "metadata": {},
     "output_type": "display_data"
    }
   ],
   "source": [
    "plt.plot(K,ys_final,label='Expected Final fitness')\n",
    "plt.plot(K,ys_initial,label='Expected Initial fitness')\n",
    "\n",
    "plt.legend()\n",
    "plt.xlabel('Grid size')\n",
    "plt.ylabel('Accuracy %')\n",
    "plt.show()"
   ]
  },
  {
   "cell_type": "code",
   "execution_count": 104,
   "id": "6b882849",
   "metadata": {},
   "outputs": [
    {
     "data": {
      "image/png": "[encoded data removed]",
      "text/plain": [
       "<Figure size 640x480 with 1 Axes>"
      ]
     },
     "metadata": {},
     "output_type": "display_data"
    }
   ],
   "source": [
    "plt.plot(K,iterations)\n",
    "\n",
    "plt.xlabel('Grid Size')\n",
    "plt.ylabel('Expected Generations')\n",
    "plt.show()"
   ]
  },
  {
   "cell_type": "code",
   "execution_count": null,
   "id": "e27467e1",
   "metadata": {},
   "outputs": [],
   "source": []
  },
  {
   "cell_type": "code",
   "execution_count": null,
   "id": "aaf9e7ba",
   "metadata": {},
   "outputs": [],
   "source": []
  }
 ],
 "metadata": {
  "kernelspec": {
   "display_name": "Python 3 (ipykernel)",
   "language": "python",
   "name": "python3"
  },
  "language_info": {
   "codemirror_mode": {
    "name": "ipython",
    "version": 3
   },
   "file_extension": ".py",
   "mimetype": "text/x-python",
   "name": "python",
   "nbconvert_exporter": "python",
   "pygments_lexer": "ipython3",
   "version": "3.11.4"
  }
 },
 "nbformat": 4,
 "nbformat_minor": 5
}
