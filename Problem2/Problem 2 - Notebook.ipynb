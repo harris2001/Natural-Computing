{
 "cells": [
  {
   "cell_type": "code",
   "execution_count": 1,
   "id": "aaac49a8",
   "metadata": {},
   "outputs": [],
   "source": [
    "import numpy as np\n",
    "import matplotlib.pyplot as plt"
   ]
  },
  {
   "cell_type": "markdown",
   "id": "236c906c",
   "metadata": {},
   "source": [
    "## 0. Game generation"
   ]
  },
  {
   "cell_type": "code",
   "execution_count": 2,
   "id": "9b5fbe71",
   "metadata": {},
   "outputs": [],
   "source": [
    "np.random.seed(99999)"
   ]
  },
  {
   "cell_type": "code",
   "execution_count": 3,
   "id": "ba28d106",
   "metadata": {},
   "outputs": [],
   "source": [
    "def new_game(k=3,min_value=3,max_value=15):\n",
    "    game_board = np.zeros((k,k))\n",
    "    constraints = np.zeros((2,k))\n",
    "    solution = \"\" #This is hidden in the code (only used for debugging)\n",
    "    for i in range(k):\n",
    "        for j in range(k):\n",
    "            game_board[i][j] = np.random.randint(min_value,max_value+1)\n",
    "            #Randomly delete 1/3 of the cells from sum\n",
    "            if np.random.randint(0,3) > 0:\n",
    "                constraints[0][i]+=game_board[i][j] #horizontal sum\n",
    "                constraints[1][j]+=game_board[i][j] #vertical sum  \n",
    "                solution += \"1\"\n",
    "                continue\n",
    "            solution += \"0\"\n",
    "            \n",
    "    return game_board, constraints, solution\n",
    "        "
   ]
  },
  {
   "cell_type": "code",
   "execution_count": 4,
   "id": "e0ebdc73",
   "metadata": {},
   "outputs": [],
   "source": [
    "K=15"
   ]
  },
  {
   "cell_type": "code",
   "execution_count": 5,
   "id": "ff684f9a",
   "metadata": {},
   "outputs": [
    {
     "data": {
      "text/plain": [
       "(array([[14., 15., 15., 11.,  6.,  8.,  9.,  3.,  3.,  3., 15., 15.,  5.,\n",
       "          3.,  3.],\n",
       "        [11.,  3., 10., 11., 12., 15.,  6.,  5.,  4.,  8.,  6.,  9.,  9.,\n",
       "         12.,  7.],\n",
       "        [13.,  8., 11., 10., 14.,  3., 12.,  3., 11.,  5., 15.,  7.,  6.,\n",
       "         14., 15.],\n",
       "        [ 4.,  4.,  8., 10., 13., 14.,  7., 11., 10.,  7., 14.,  7.,  8.,\n",
       "          5., 11.],\n",
       "        [ 8.,  8.,  9.,  3.,  5.,  3., 12.,  4.,  9., 12., 13.,  6.,  5.,\n",
       "          7.,  3.],\n",
       "        [ 3.,  3., 13., 15., 13.,  7., 10., 10.,  5., 14.,  3., 13.,  9.,\n",
       "          7.,  3.],\n",
       "        [ 6.,  7., 14., 12., 10., 13., 11., 14.,  6., 11.,  3.,  6., 15.,\n",
       "          4.,  9.],\n",
       "        [ 7.,  6.,  7.,  6.,  7.,  5.,  6.,  3., 12.,  6., 12.,  8., 15.,\n",
       "          8., 15.],\n",
       "        [ 7.,  5.,  5., 11.,  5.,  3., 11., 13., 13.,  5., 14.,  9., 14.,\n",
       "          9.,  3.],\n",
       "        [ 7., 15., 11., 12.,  6., 12.,  7.,  4.,  3.,  3., 12.,  5., 14.,\n",
       "         13.,  3.],\n",
       "        [ 9.,  5.,  4.,  6., 10., 10., 10., 13., 15.,  9.,  6., 15.,  4.,\n",
       "          4.,  4.],\n",
       "        [13.,  3.,  9.,  7., 11., 11., 11.,  5., 13.,  6.,  6.,  6., 11.,\n",
       "         14., 11.],\n",
       "        [12.,  8., 14.,  4.,  4., 14.,  3., 10.,  4., 12.,  6.,  3., 12.,\n",
       "          7.,  5.],\n",
       "        [ 5.,  8.,  8.,  6., 13., 10., 11.,  6., 14., 15.,  3.,  8.,  9.,\n",
       "         12., 13.],\n",
       "        [ 3.,  4., 13.,  4.,  6.,  6., 15., 14.,  3., 12., 15., 10., 11.,\n",
       "         10., 10.]]),\n",
       " array([[ 97.,  76.,  89.,  91.,  77., 105., 100.,  85.,  80.,  70.,  63.,\n",
       "         113.,  78., 125., 107.],\n",
       "        [ 80.,  65., 143.,  82., 111.,  86.,  81.,  59., 118.,  93.,  87.,\n",
       "          55., 102.,  98.,  96.]]),\n",
       " '011101110111010111110001001101101101111100101000111111001101011111001110111111111101110111101111011001110101011011100111111011101110011011010101110010011010001011110111010111110111111001100101011101111111110111101111011110111')"
      ]
     },
     "execution_count": 5,
     "metadata": {},
     "output_type": "execute_result"
    }
   ],
   "source": [
    "game_board,constraints,solution = new_game(k=K)\n",
    "game_board,constraints,solution"
   ]
  },
  {
   "cell_type": "markdown",
   "id": "7fefe306",
   "metadata": {},
   "source": [
    "## 1. Population Initialisation"
   ]
  },
  {
   "cell_type": "code",
   "execution_count": 6,
   "id": "0d3d12f9",
   "metadata": {},
   "outputs": [],
   "source": [
    "def intialise_population(pop_size,k):\n",
    "    generation_0 = []\n",
    "    for pp in range(pop_size):\n",
    "        population = \"\"\n",
    "        for i in range(k):\n",
    "            for j in range(k):\n",
    "                population+=str(np.random.randint(0,2))\n",
    "        generation_0.append(population)\n",
    "    return np.array(generation_0)"
   ]
  },
  {
   "cell_type": "code",
   "execution_count": 7,
   "id": "e706f23a",
   "metadata": {},
   "outputs": [],
   "source": [
    "initial_population = intialise_population(50,k=K)\n",
    "# initial_population"
   ]
  },
  {
   "cell_type": "markdown",
   "id": "383783ca",
   "metadata": {},
   "source": [
    "## 2. Fitness"
   ]
  },
  {
   "cell_type": "code",
   "execution_count": 8,
   "id": "2c042590",
   "metadata": {},
   "outputs": [],
   "source": [
    "NAIVE = False"
   ]
  },
  {
   "cell_type": "code",
   "execution_count": 9,
   "id": "a78297e1",
   "metadata": {},
   "outputs": [],
   "source": [
    "def get_fitness(candidate, game_board, constraints):\n",
    "    k = int(np.sqrt(len(candidate)))\n",
    "    candidate_array = np.array(list(candidate), dtype=int).reshape((k, k))\n",
    "\n",
    "    row_sums = np.sum(game_board * candidate_array, axis=1)\n",
    "    col_sums = np.sum(game_board * candidate_array, axis=0)\n",
    "\n",
    "    if not NAIVE:\n",
    "        total = np.sum(row_sums == constraints[0]) + np.sum(col_sums == constraints[1])\n",
    "        return total\n",
    "\n",
    "    # The naive approach is to return 0 or 1 to indicate if the population is a candidate or not\n",
    "    return 1 if (row_sums == constraints[0]).all() and (col_sums == constraints[1]).all() else 0\n"
   ]
  },
  {
   "cell_type": "code",
   "execution_count": 10,
   "id": "d6c59796",
   "metadata": {},
   "outputs": [],
   "source": [
    "# for i in initial_population:\n",
    "#     print(solution,i,get_fitness(i,game_board, constraints))"
   ]
  },
  {
   "cell_type": "markdown",
   "id": "7b3f5b4e",
   "metadata": {},
   "source": [
    "## 3. Ranking & Selection"
   ]
  },
  {
   "cell_type": "code",
   "execution_count": 11,
   "id": "73a773cb",
   "metadata": {},
   "outputs": [],
   "source": [
    "def rank(population):\n",
    "    ranking = []\n",
    "    for i in range(len(population)):\n",
    "        ranking.append((np.sum(get_fitness(population[i],game_board,constraints)),i))\n",
    "    return np.array(sorted(ranking,reverse=True))"
   ]
  },
  {
   "cell_type": "code",
   "execution_count": 12,
   "id": "16fe7c5e",
   "metadata": {},
   "outputs": [],
   "source": [
    "# ranking = rank(initial_population)\n",
    "# for r in ranking:\n",
    "#     print(initial_population[r[1]],r[0])"
   ]
  },
  {
   "cell_type": "code",
   "execution_count": 13,
   "id": "eed0b809",
   "metadata": {},
   "outputs": [],
   "source": [
    "def selection(ranked, elitism):\n",
    "    n = len(ranked)\n",
    "    probabilities = np.zeros(n)\n",
    "    members = np.arange(n)\n",
    "    elite_members = []\n",
    "    \n",
    "    for i in range(n):\n",
    "        if i < elitism:\n",
    "            elite_members.append(ranked[i][1])\n",
    "        probabilities[ranked[i][1]] = ranked[i][0]\n",
    "    \n",
    "    if not NAIVE:\n",
    "        # Check if the sum of probabilities is not zero before normalization\n",
    "        sum_probabilities = np.sum(probabilities)\n",
    "        if sum_probabilities != 0:\n",
    "            probabilities = probabilities / sum_probabilities\n",
    "        else:\n",
    "            # If sum of probabilities is zero, assign equal probabilities to all members\n",
    "            probabilities = np.ones_like(probabilities) / n\n",
    "    else:\n",
    "        #assign equal probability to all members of the population (because sum_of_fitness=0)\n",
    "        probabilities = np.ones_like(probabilities) / n\n",
    "    \n",
    "    # Select whether to add an individual from the remaining n-elitism members using their weighted probabilities\n",
    "    selected_members = np.random.choice(members, n - elitism, p=probabilities)\n",
    "    \n",
    "    return selected_members, np.array(elite_members)        "
   ]
  },
  {
   "cell_type": "code",
   "execution_count": 14,
   "id": "e0ed2001",
   "metadata": {},
   "outputs": [],
   "source": [
    "# selected,elite = selection(ranking,10)\n",
    "# selected,elite"
   ]
  },
  {
   "cell_type": "code",
   "execution_count": 15,
   "id": "3b0293be",
   "metadata": {},
   "outputs": [],
   "source": [
    "def mating_pool(population, selected_members, elite_members):\n",
    "    pool = np.array([population[x] for x in selected_members])\n",
    "    elite = np.array([population[x] for x in elite_members])\n",
    "    return pool, elite"
   ]
  },
  {
   "cell_type": "code",
   "execution_count": 16,
   "id": "c188ab7d",
   "metadata": {
    "scrolled": true
   },
   "outputs": [],
   "source": [
    "# pool, elite_pool = mating_pool(initial_population,selected,elite)\n",
    "# pool, elite_pool "
   ]
  },
  {
   "cell_type": "markdown",
   "id": "5bdeb90d",
   "metadata": {},
   "source": [
    "## 4. Breeding"
   ]
  },
  {
   "cell_type": "code",
   "execution_count": 17,
   "id": "45a78ddf",
   "metadata": {},
   "outputs": [],
   "source": [
    "def breeding(k,parent1,parent2):\n",
    "    \n",
    "    geneA = np.random.randint(0,k-1)\n",
    "    geneB = np.random.randint(1,k)\n",
    "    \n",
    "    while geneA >= geneB:\n",
    "        geneA = np.random.randint(0,k-1)\n",
    "        geneB = np.random.randint(1,k)\n",
    "    child = \"\"\n",
    "    for i in range(k):\n",
    "        for j in range(k):\n",
    "            if i>=geneA and i<=geneB:\n",
    "                child += parent1[i*k+j]\n",
    "            else:\n",
    "                child += parent2[i*k+j]\n",
    "    #print(f\"P1:{parent1} & P2:{parent2} => {child}\")\n",
    "    return child"
   ]
  },
  {
   "cell_type": "code",
   "execution_count": 18,
   "id": "ef0773d6",
   "metadata": {},
   "outputs": [],
   "source": [
    "def new_population(k,mating_pool,elite_pool):\n",
    "    children = [elite for elite in elite_pool]\n",
    "    n = len(mating_pool)\n",
    "    # Sample from the mating pool with replacement to create a pool of mating parents\n",
    "    pool_indices = np.random.choice(np.arange(n), n)\n",
    "    pool = [mating_pool[i] for i in pool_indices]\n",
    "    \n",
    "    for i in range(n):\n",
    "        child = breeding(k,pool[i],pool[n-i-1])\n",
    "        children.append(child)\n",
    "    return np.array(children)"
   ]
  },
  {
   "cell_type": "code",
   "execution_count": 19,
   "id": "7e2248f5",
   "metadata": {},
   "outputs": [],
   "source": [
    "# new_population(K,pool,elite_pool)"
   ]
  },
  {
   "cell_type": "markdown",
   "id": "dc9a7e7e",
   "metadata": {},
   "source": [
    "## 5. Mutate"
   ]
  },
  {
   "cell_type": "code",
   "execution_count": 20,
   "id": "753ea8e9",
   "metadata": {},
   "outputs": [],
   "source": [
    "def mutate(chromosome):\n",
    "    i = np.random.randint(0,len(chromosome))\n",
    "    if chromosome[i] == '1':\n",
    "        chromosome = chromosome[:i] + '0' + chromosome[i + 1:]\n",
    "    else:\n",
    "        chromosome = chromosome[:i] + '1' + chromosome[i + 1:]\n",
    "    return chromosome\n",
    "def mutate_population(population, prob_mut):\n",
    "    mutated_population = []\n",
    "    for individual in population:\n",
    "        if np.random.rand() - prob_mut < 0:\n",
    "            mutated_population.append(mutate(individual))\n",
    "        else:\n",
    "            mutated_population.append(individual)\n",
    "    return mutated_population"
   ]
  },
  {
   "cell_type": "markdown",
   "id": "a892a751",
   "metadata": {},
   "source": [
    "## 6. New Generation"
   ]
  },
  {
   "cell_type": "code",
   "execution_count": 21,
   "id": "4cd9cdf1",
   "metadata": {},
   "outputs": [],
   "source": [
    "def new_generation(k,current_gen, elitism, prob_mut):\n",
    "    ranking = rank(current_gen)\n",
    "    selected,elite = selection(ranking,elitism)\n",
    "    pool, elite_pool = mating_pool(current_gen,selected,elite)\n",
    "    children = new_population(k,pool,elite_pool)\n",
    "    next_gen = mutate_population(children, prob_mut)\n",
    "    return next_gen"
   ]
  },
  {
   "cell_type": "markdown",
   "id": "7b475140",
   "metadata": {},
   "source": [
    "## 7. Genetic Algorithm"
   ]
  },
  {
   "cell_type": "code",
   "execution_count": 22,
   "id": "360b5d29",
   "metadata": {},
   "outputs": [],
   "source": [
    "def genetic_algorithm(pop_size, elitism, prob_mut, generations, k, verbose=False, NoG=300):\n",
    "    pop = intialise_population(pop_size,k)\n",
    "    ranked = rank(pop)\n",
    "    x_0 = ranked[0][0]\n",
    "    x_1 = -1\n",
    "    ys = [x_0]\n",
    "        \n",
    "    stucked=0\n",
    "    for i in range(generations):\n",
    "        pop = new_generation(k,pop, elitism, prob_mut)\n",
    "        ranked = rank(pop)\n",
    "        if ranked[0][0] <= x_1:\n",
    "            stucked += 1\n",
    "        else:\n",
    "            stucked = 0\n",
    "        x_1 = max(x_1,ranked[0][0])\n",
    "        ys.append(x_1)\n",
    "        if ranked[0][0]==2*k or stucked>=NoG:\n",
    "            break\n",
    "    #Plotting performance graph\n",
    "#     plt.plot([x for x in range(i+2)],ys)\n",
    "#     plt.show()\n",
    "    \n",
    "    #for r in ranked:\n",
    "    #    print(solution,pop[r[1]],r[0])\n",
    "\n",
    "    return x_0,x_1,i"
   ]
  },
  {
   "cell_type": "code",
   "execution_count": 23,
   "id": "b67b94af",
   "metadata": {},
   "outputs": [
    {
     "name": "stdout",
     "output_type": "stream",
     "text": [
      "Initial fit: 5, Final Fit: 27, Found in generation: 793\n"
     ]
    }
   ],
   "source": [
    "K=20\n",
    "game_board,constraints,solution = new_game(k=K)\n",
    "x0,x1,i = genetic_algorithm(1000,50,0.8,1000,K,verbose=True)\n",
    "print(f\"Initial fit: {x0}, Final Fit: {x1}, Found in generation: {i}\")"
   ]
  },
  {
   "cell_type": "code",
   "execution_count": 24,
   "id": "bca7cac2",
   "metadata": {},
   "outputs": [
    {
     "name": "stdout",
     "output_type": "stream",
     "text": [
      "Trying k=3\n",
      "6 => 6/6 in 0 gerations\n",
      "Trying k=4\n",
      "6 => 8/8 in 1 gerations\n",
      "Trying k=5\n",
      "4 => 10/10 in 6 gerations\n",
      "Trying k=6\n",
      "4 => 12/12 in 11 gerations\n",
      "Trying k=7\n",
      "4 => 14/14 in 20 gerations\n",
      "Trying k=8\n",
      "3 => 16/16 in 28 gerations\n",
      "Trying k=9\n",
      "3 => 13/18 in 366 gerations\n",
      "Trying k=10\n",
      "3 => 15/20 in 400 gerations\n",
      "Trying k=11\n",
      "2 => 15/22 in 404 gerations\n",
      "Trying k=12\n",
      "3 => 17/24 in 736 gerations\n",
      "Trying k=13\n",
      "3 => 20/26 in 914 gerations\n",
      "Trying k=14\n",
      "4 => 22/28 in 961 gerations\n",
      "Trying k=15\n",
      "3 => 21/30 in 502 gerations\n",
      "Trying k=16\n",
      "3 => 24/32 in 897 gerations\n",
      "Trying k=17\n",
      "3 => 25/34 in 844 gerations\n",
      "Trying k=18\n",
      "3 => 25/36 in 706 gerations\n",
      "Trying k=19\n",
      "5 => 24/38 in 630 gerations\n",
      "Trying k=20\n",
      "3 => 29/40 in 999 gerations\n"
     ]
    }
   ],
   "source": [
    "K = [i for i in range(3,21)]\n",
    "y = []\n",
    "its = []\n",
    "iterations = [0 for i in range(3,21)]\n",
    "for k in K:\n",
    "    x0,x1,ii =0,0,0\n",
    "    for i in range(10):\n",
    "        game_board,constraints,_ = new_game(k=k)\n",
    "        if i==0:\n",
    "            print(f\"Trying k={k}\")\n",
    "            x_0,x_1,it = genetic_algorithm(1000,50,0.8,1000,k,verbose=True)\n",
    "            print(f\"{x_0} => {x_1}/{k*2} in {it} gerations\")\n",
    "        else:\n",
    "            x_0,x_1,it = genetic_algorithm(1000,50,0.8,1000,k)\n",
    "        x0+=x_0\n",
    "        x1+=x_1\n",
    "        ii+=it\n",
    "    y.append([x0*100/(10*(2*k)),x1*100/(10*(2*k))])\n",
    "    its.append(ii/10)"
   ]
  },
  {
   "cell_type": "code",
   "execution_count": 38,
   "id": "f623083f",
   "metadata": {},
   "outputs": [],
   "source": [
    "ys_initial = []\n",
    "ys_final = []\n",
    "iterations = []\n",
    "for i in y:\n",
    "    ys_initial.append(i[0])\n",
    "    ys_final.append(i[1])\n",
    "\n",
    "for i in its:\n",
    "    iterations.append(i)"
   ]
  },
  {
   "cell_type": "code",
   "execution_count": 39,
   "id": "a63d6ce4",
   "metadata": {},
   "outputs": [
    {
     "name": "stdout",
     "output_type": "stream",
     "text": [
      "[96.66666666666667, 65.0, 40.0, 34.166666666666664, 25.714285714285715, 20.625, 18.333333333333332, 16.0, 15.454545454545455, 12.5, 11.923076923076923, 12.142857142857142, 10.666666666666666, 10.3125, 9.117647058823529, 9.166666666666666, 9.736842105263158, 8.0]\n",
      "[100.0, 100.0, 100.0, 100.0, 100.0, 95.0, 88.33333333333333, 77.5, 73.63636363636364, 73.33333333333333, 74.23076923076923, 73.92857142857143, 74.0, 72.5, 71.76470588235294, 71.11111111111111, 67.36842105263158, 68.25]\n",
      "[0.0, 1.1, 5.1, 11.7, 20.1, 139.6, 373.0, 419.1, 572.1, 594.5, 681.2, 713.9, 797.0, 726.8, 746.3, 872.1, 738.2, 878.5]\n"
     ]
    }
   ],
   "source": [
    "print(ys_initial)\n",
    "print(ys_final)\n",
    "print(iterations)"
   ]
  },
  {
   "cell_type": "code",
   "execution_count": 51,
   "id": "07bafd7b",
   "metadata": {},
   "outputs": [
    {
     "data": {
      "image/png": "[encoded data removed]",
      "text/plain": [
       "<Figure size 640x480 with 1 Axes>"
      ]
     },
     "metadata": {},
     "output_type": "display_data"
    }
   ],
   "source": [
    "plt.plot(K,ys_final,label='Expected Final fitness')\n",
    "plt.plot(K,ys_initial,label='Expected Initial fitness')\n",
    "\n",
    "plt.legend()\n",
    "plt.xlabel('Grid size')\n",
    "plt.ylabel('Accuracy %')\n",
    "plt.show()"
   ]
  },
  {
   "cell_type": "code",
   "execution_count": 52,
   "id": "6b882849",
   "metadata": {},
   "outputs": [
    {
     "data": {
      "image/png": "[encoded data removed]",
      "text/plain": [
       "<Figure size 640x480 with 1 Axes>"
      ]
     },
     "metadata": {},
     "output_type": "display_data"
    }
   ],
   "source": [
    "plt.plot(K,iterations)\n",
    "\n",
    "plt.xlabel('Grid Size')\n",
    "plt.ylabel('Expected Generations')\n",
    "plt.show()"
   ]
  }
 ],
 "metadata": {
  "kernelspec": {
   "display_name": "Python 3 (ipykernel)",
   "language": "python",
   "name": "python3"
  },
  "language_info": {
   "codemirror_mode": {
    "name": "ipython",
    "version": 3
   },
   "file_extension": ".py",
   "mimetype": "text/x-python",
   "name": "python",
   "nbconvert_exporter": "python",
   "pygments_lexer": "ipython3",
   "version": "3.11.4"
  }
 },
 "nbformat": 4,
 "nbformat_minor": 5
}
